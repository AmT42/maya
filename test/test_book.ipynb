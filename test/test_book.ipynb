{
 "cells": [
  {
   "cell_type": "code",
   "execution_count": 8,
   "metadata": {},
   "outputs": [
    {
     "data": {
      "text/plain": [
       "'06/15/22'"
      ]
     },
     "execution_count": 8,
     "metadata": {},
     "output_type": "execute_result"
    }
   ],
   "source": [
    "from datetime import datetime\n",
    "datetime.strptime('15/06/2022', \"%d/%m/%Y\").strftime(\"%y-%M-%D\")"
   ]
  },
  {
   "cell_type": "code",
   "execution_count": 10,
   "metadata": {},
   "outputs": [
    {
     "name": "stdout",
     "output_type": "stream",
     "text": [
      "\u001b[31mERROR: Could not find a version that satisfies the requirement chrombadb (from versions: none)\u001b[0m\u001b[31m\n",
      "\u001b[0m\u001b[31mERROR: No matching distribution found for chrombadb\u001b[0m\u001b[31m\n",
      "\u001b[0m"
     ]
    }
   ],
   "source": [
    "!pip install chrombadb"
   ]
  },
  {
   "cell_type": "code",
   "execution_count": 15,
   "metadata": {},
   "outputs": [],
   "source": [
    "from langchain.vectorstores import Chroma \n",
    "vectorstore = Chroma(collection_name=\"langchain_store\", client_settings={})"
   ]
  },
  {
   "cell_type": "code",
   "execution_count": 14,
   "metadata": {},
   "outputs": [
    {
     "data": {
      "text/plain": [
       "'admin'"
      ]
     },
     "execution_count": 14,
     "metadata": {},
     "output_type": "execute_result"
    }
   ],
   "source": [
    "config(\"ADMIN\")"
   ]
  },
  {
   "cell_type": "code",
   "execution_count": null,
   "metadata": {},
   "outputs": [],
   "source": [
    "chroma_server_host: Optional[str] = None\n",
    "    chroma_server_headers: Optional[Dict[str, str]] = None\n",
    "    chroma_server_http_port: Optional[str] = None\n",
    "    chroma_server_ssl_enabled: Optional[bool] = False\n",
    "    chroma_server_grpc_port: Optional[str] = None\n",
    "    chroma_server_cors_allow_origins: List[str] = []  #"
   ]
  },
  {
   "cell_type": "code",
   "execution_count": 8,
   "metadata": {},
   "outputs": [
    {
     "data": {
      "text/plain": [
       "{'Authorization': 'Basic YWRtaW46YWRtaW4='}"
      ]
     },
     "execution_count": 8,
     "metadata": {},
     "output_type": "execute_result"
    }
   ],
   "source": [
    "from base64 import b64encode\n",
    "\n",
    "# Encode the username and password for Basic Authentication\n",
    "credentials = b64encode(\"admin:admin\".encode()).decode(\"utf-8\")\n",
    "headers = {\n",
    "    \"Authorization\": f\"Basic {credentials}\"\n",
    "}\n",
    "headers"
   ]
  },
  {
   "cell_type": "code",
   "execution_count": 5,
   "metadata": {},
   "outputs": [
    {
     "data": {
      "text/plain": [
       "'YWRtaW46YWRtaW4='"
      ]
     },
     "execution_count": 5,
     "metadata": {},
     "output_type": "execute_result"
    }
   ],
   "source": [
    "from decouple import config\n",
    "from base64 import b64encode\n",
    "logs = \"admin:{}\".format(config(\"ADMIN\"))\n",
    "logs_byes = logs.encode(\"utf-8\")\n",
    "encoded_logs = b64encode(logs_byes)\n",
    "encoded_logs.decode(\"utf-8\")"
   ]
  },
  {
   "cell_type": "code",
   "execution_count": 13,
   "metadata": {},
   "outputs": [
    {
     "data": {
      "text/plain": [
       "True"
      ]
     },
     "execution_count": 13,
     "metadata": {},
     "output_type": "execute_result"
    }
   ],
   "source": [
    "import chromadb\n",
    "from chromadb.config import Settings\n",
    "from decouple import config\n",
    "chroma_client = chromadb.HttpClient(settings=Settings(allow_reset=True,\n",
    " ), host = \"localhost\", port = 8001, headers=headers)\n",
    "chroma_client.reset()\n"
   ]
  },
  {
   "cell_type": "code",
   "execution_count": 10,
   "metadata": {},
   "outputs": [],
   "source": [
    "from langchain.vectorstores import Chroma\n",
    "from langchain.embeddings.openai import OpenAIEmbeddings\n",
    "chromadb = Chroma(client = chroma_client, collection_name = \"smart_maya\", embedding_function=OpenAIEmbeddings())"
   ]
  },
  {
   "cell_type": "code",
   "execution_count": 11,
   "metadata": {},
   "outputs": [
    {
     "data": {
      "text/plain": [
       "[]"
      ]
     },
     "execution_count": 11,
     "metadata": {},
     "output_type": "execute_result"
    }
   ],
   "source": [
    "chromadb.similarity_search(\"Impot\")"
   ]
  },
  {
   "cell_type": "code",
   "execution_count": null,
   "metadata": {},
   "outputs": [],
   "source": [
    "# create the chroma client\n",
    "import chromadb\n",
    "import uuid\n",
    "from chromadb.config import Settings\n",
    "\n",
    "client = chromadb.HttpClient(settings=Settings(allow_reset=True))\n",
    "client.reset()  # resets the database\n",
    "collection = client.create_collection(\"my_collection\")\n",
    "for doc in docs:\n",
    "    collection.add(\n",
    "        ids=[str(uuid.uuid1())], metadatas=doc.metadata, documents=doc.page_content\n",
    "    )\n",
    "\n",
    "# tell LangChain to use our client and collection name\n",
    "db4 = Chroma(client=client, collection_name=\"my_collection\", embedding_function=embedding_function)\n",
    "query = \"What did the president say about Ketanji Brown Jackson\"\n",
    "docs = db4.similarity_search(query)\n",
    "print(docs[0].page_content)"
   ]
  },
  {
   "cell_type": "code",
   "execution_count": 17,
   "metadata": {},
   "outputs": [],
   "source": [
    "import chromadb\n",
    "import uuid\n",
    "from chromadb.config import Settings"
   ]
  },
  {
   "cell_type": "code",
   "execution_count": 19,
   "metadata": {},
   "outputs": [
    {
     "ename": "Exception",
     "evalue": "{\"detail\":\"Not Found\"}",
     "output_type": "error",
     "traceback": [
      "\u001b[0;31m---------------------------------------------------------------------------\u001b[0m",
      "\u001b[0;31mHTTPError\u001b[0m                                 Traceback (most recent call last)",
      "File \u001b[0;32m~/miniconda3/envs/maya/lib/python3.9/site-packages/chromadb/api/fastapi.py:408\u001b[0m, in \u001b[0;36mraise_chroma_error\u001b[0;34m(resp)\u001b[0m\n\u001b[1;32m    407\u001b[0m \u001b[39mtry\u001b[39;00m:\n\u001b[0;32m--> 408\u001b[0m     resp\u001b[39m.\u001b[39;49mraise_for_status()\n\u001b[1;32m    409\u001b[0m \u001b[39mexcept\u001b[39;00m requests\u001b[39m.\u001b[39mHTTPError:\n",
      "File \u001b[0;32m~/miniconda3/envs/maya/lib/python3.9/site-packages/requests/models.py:1021\u001b[0m, in \u001b[0;36mResponse.raise_for_status\u001b[0;34m(self)\u001b[0m\n\u001b[1;32m   1020\u001b[0m \u001b[39mif\u001b[39;00m http_error_msg:\n\u001b[0;32m-> 1021\u001b[0m     \u001b[39mraise\u001b[39;00m HTTPError(http_error_msg, response\u001b[39m=\u001b[39m\u001b[39mself\u001b[39m)\n",
      "\u001b[0;31mHTTPError\u001b[0m: 404 Client Error: Not Found for url: http://localhost:8000/api/v1/reset",
      "\nDuring handling of the above exception, another exception occurred:\n",
      "\u001b[0;31mException\u001b[0m                                 Traceback (most recent call last)",
      "Cell \u001b[0;32mIn[19], line 2\u001b[0m\n\u001b[1;32m      1\u001b[0m client \u001b[39m=\u001b[39m chromadb\u001b[39m.\u001b[39mHttpClient(settings\u001b[39m=\u001b[39mSettings(allow_reset\u001b[39m=\u001b[39m\u001b[39mTrue\u001b[39;00m))\n\u001b[0;32m----> 2\u001b[0m client\u001b[39m.\u001b[39;49mreset()\n",
      "File \u001b[0;32m~/miniconda3/envs/maya/lib/python3.9/site-packages/chromadb/api/fastapi.py:355\u001b[0m, in \u001b[0;36mFastAPI.reset\u001b[0;34m(self)\u001b[0m\n\u001b[1;32m    353\u001b[0m \u001b[39m\u001b[39m\u001b[39m\"\"\"Resets the database\"\"\"\u001b[39;00m\n\u001b[1;32m    354\u001b[0m resp \u001b[39m=\u001b[39m \u001b[39mself\u001b[39m\u001b[39m.\u001b[39m_session\u001b[39m.\u001b[39mpost(\u001b[39mself\u001b[39m\u001b[39m.\u001b[39m_api_url \u001b[39m+\u001b[39m \u001b[39m\"\u001b[39m\u001b[39m/reset\u001b[39m\u001b[39m\"\u001b[39m)\n\u001b[0;32m--> 355\u001b[0m raise_chroma_error(resp)\n\u001b[1;32m    356\u001b[0m \u001b[39mreturn\u001b[39;00m cast(\u001b[39mbool\u001b[39m, resp\u001b[39m.\u001b[39mjson())\n",
      "File \u001b[0;32m~/miniconda3/envs/maya/lib/python3.9/site-packages/chromadb/api/fastapi.py:410\u001b[0m, in \u001b[0;36mraise_chroma_error\u001b[0;34m(resp)\u001b[0m\n\u001b[1;32m    408\u001b[0m     resp\u001b[39m.\u001b[39mraise_for_status()\n\u001b[1;32m    409\u001b[0m \u001b[39mexcept\u001b[39;00m requests\u001b[39m.\u001b[39mHTTPError:\n\u001b[0;32m--> 410\u001b[0m     \u001b[39mraise\u001b[39;00m (\u001b[39mException\u001b[39;00m(resp\u001b[39m.\u001b[39mtext))\n",
      "\u001b[0;31mException\u001b[0m: {\"detail\":\"Not Found\"}"
     ]
    }
   ],
   "source": [
    "client = chromadb.HttpClient(settings=Settings(allow_reset=True))\n",
    "client.reset() "
   ]
  }
 ],
 "metadata": {
  "kernelspec": {
   "display_name": "maya",
   "language": "python",
   "name": "python3"
  },
  "language_info": {
   "codemirror_mode": {
    "name": "ipython",
    "version": 3
   },
   "file_extension": ".py",
   "mimetype": "text/x-python",
   "name": "python",
   "nbconvert_exporter": "python",
   "pygments_lexer": "ipython3",
   "version": "3.9.17"
  },
  "orig_nbformat": 4
 },
 "nbformat": 4,
 "nbformat_minor": 2
}
