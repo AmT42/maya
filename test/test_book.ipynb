{
 "cells": [
  {
   "cell_type": "code",
   "execution_count": 1,
   "metadata": {},
   "outputs": [
    {
     "data": {
      "text/plain": [
       "'22-00-06/15/22'"
      ]
     },
     "execution_count": 1,
     "metadata": {},
     "output_type": "execute_result"
    }
   ],
   "source": [
    "from datetime import datetime\n",
    "datetime.strptime('15/06/2022', \"%d/%m/%Y\").strftime(\"%y-%M-%D\")"
   ]
  },
  {
   "cell_type": "code",
   "execution_count": 3,
   "metadata": {},
   "outputs": [
    {
     "data": {
      "text/plain": [
       "{'Authorization': 'Basic YWRtaW46YWRtaW4='}"
      ]
     },
     "execution_count": 3,
     "metadata": {},
     "output_type": "execute_result"
    }
   ],
   "source": [
    "from base64 import b64encode\n",
    "\n",
    "# Encode the username and password for Basic Authentication\n",
    "credentials = b64encode(\"admin:bru\".encode()).decode(\"utf-8\")\n",
    "headers = {\n",
    "    \"Authorization\": f\"Basic {credentials}\"\n",
    "}\n",
    "headers"
   ]
  },
  {
   "cell_type": "code",
   "execution_count": 4,
   "metadata": {},
   "outputs": [],
   "source": [
    "import chromadb\n",
    "from chromadb.config import Settings\n",
    "from decouple import config\n",
    "chroma_client = chromadb.HttpClient(settings=Settings(allow_reset=True,\n",
    " ), host = \"localhost\", port = 8001, headers=headers)\n",
    "# chroma_client.reset()\n"
   ]
  },
  {
   "cell_type": "code",
   "execution_count": 5,
   "metadata": {},
   "outputs": [],
   "source": [
    "from langchain.vectorstores import Chroma\n",
    "from langchain.embeddings.openai import OpenAIEmbeddings\n",
    "chromadb = Chroma(client = chroma_client, collection_name = \"smart_maya\", embedding_function=OpenAIEmbeddings())"
   ]
  },
  {
   "cell_type": "code",
   "execution_count": 6,
   "metadata": {},
   "outputs": [
    {
     "data": {
      "text/plain": [
       "[Document(page_content='33337616255361 18\\nV17.02.06.01.10020115 3761625536 ACO FRFR\\nNuméro de l\\'avis\\nde contravention\\n3761625536\\nLiberté Égalité Fraternité\\nRÉPUBLIQUE FRANÇAISE\\nAVIS DE CONTRAVENTION\\nwww.antal.gouv.fr est l\\'unique site officiel habilité vous permettant de\\nréaliser gratuitement toutes vos démarches en ligne dont les\\ncontestations.\\nMadame, Monsieur,\\nLe véhicule dont le certificat d\\'immatriculation est établi\\nà votre nom a fait l\\'objet d\\'un contrôle ayant permis de\\nconstater l\\'infraction figurant ci-dessous.\\nT5 v17 02\\nDESCRIPTION DE L\\'INFRACTION\\nEXCES DE VITESSE\\nEXCES DE VITESSE INFERIEUR A 20 KM/H PAR CONDUCTEUR DE VEHICULE A MOTEUR -\\nVITESSE MAXIMALE AUTORISEE INFERIEURE OU EGALE A 50 KM/H\\n- Prévue par Art. R. 413-14 §1 du C. de la route.\\nRéprimée par Art. R. 413-14 §I al. 1 du C. de la route.\\nDate/heure de constatation : le 15/06/2023 à 10h08\\n75 av de la division leclerc\\n.PK/PR: 000.000\\nDirection sarcelles VERS montmorency\\nSt brice sous forêt - 95350\\nVotre véhicule a été contrôlé par un radar à la vitesse de 70 km/h, pour\\nune vitesse limite autorisée de 50 km/h.\\nCette infraction a été constatée et validée par un agent ou un officier\\nde police judiciaire du Centre automatisé de constatation des\\ninfractions routières (la vitesse retenue est de : 60 km/h).\\nLA POSTE\\nZA4\\n110196 43927 8812\\n1/ 31\\nEffet(s) sur le permis de conduire\\nCette infraction entraîne un retrait de 1 point(s) du permis de\\nconduire. Une fois votre amende payée, vous recevrez un courrier du\\nservice du Fichier national des permis de conduire vous informant de ce\\nretrait de point.\\nVOUS RECONNAISSEZ L\\'INFRACTION\\nVous devez payer l\\'amende sur le site www.amendes.gouv.fr ou en\\nutilisant les autres modes de paiement décrits dans le document «< Notice\\nde paiement ».\\nLe montant de l\\'amende forfaitaire prévue pour cette infraction s\\'élève à :\\nLe paiement de l\\'amende entraîne la reconnaissance de l\\'infraction, le\\nretrait éventuel de point(s) correspondant (articles 529 du Code de\\nprocédure pénale et L223-1 du Code de la route).\\nMontant de l\\'amende\\nSi vous payez dans les 15 jours à compter du 22/06/2023, le montant\\nde votre amende est ramené à :\\nCe délai est porté à 30 jours en cas de paiement sur internet, par serveur vocal,\\nauprès d\\'un buraliste ou partenaire agréé ou auprés des centres des finances\\npubliques (uniquement par carte bancaire). Voir notice de paiement ci-jointe.\\nCELEBI BAHAR\\n58 RUE DE MARSEILLE\\n93800 EPINAY SUR SEINE\\nSi vous ne payez pas ou ne contestez pas dans les 45 jours à compter\\ndu 22/06/2023, le montant de votre amende est majoré :\\nDans ce cas, vous recevrez alors un \"Avis d\\'amende forfaitaire majorée\" - art.\\n529-2 du Code de procédure pénale.\\n135 €\\n90 €\\n308\\n375 €\\nDate de l\\'avis de\\ncontravention\\nX\\n22/06/2023\\nPays FRANCE\\n. Marque RENAULT\\n****\\nIdentification du véhicule\\nImmatriculation CY-747-JL\\nSD 863021225190068\\nAppareil de contrôle homologué\\nType: MILLIA - GATSO - 201401000069\\nDate de dernière vérification: 13/06/2023\\nAgent verbalisateur\\nAgent verbalisateur N° 471839\\nService Centre automatisé de constatation des\\ninfractions routières (Rennes)\\nPour plus de renseignements sur cet avis, vos\\ndémarches ou le suivi de votre dossier, consultez\\nle site Internet www.antai.gouv.fr ou appelez le\\n0806 606 606 (prix d\\'un appel local),\\nVOUS CONTESTEZ\\nAVOIR COMMIS L\\'INFRACTION\\n1. Votre véhicule a été vendu / cédé / volé /\\ndétruit ou vos plaques d\\'immatriculation usurpées\\n→n\\'effectuez ni paiement ni consignation\\n2. Un autre conducteur utilisait votre véhicule au\\nmoment de l\\'infraction\\n→n\\'effectuez ni paiement ni consignation\\n..............\\n3. Pour tout autre motif, vous devez verser une\\nconsignation du montant de l\\'amende forfaitaire.\\n*********\\nDans tous les cas, faites vos démarches en\\nligne sur le site www.antai.gouv.fr ou complétez\\nle formulaire joint et adressez votre requête par\\nlettre recommandée avec demande d\\'avis de\\nréception à :\\nL OFFICIER DU MINISTERE PUBLIC\\nCONTESTATION VITESSE\\nCS 41101\\n35911 RENNES CEDEX 9\\nJE', metadata={'id': 'cb7bbefe-fa26-4d8d-861c-382f37a850cd', 'type': 'ocr'})]"
      ]
     },
     "execution_count": 6,
     "metadata": {},
     "output_type": "execute_result"
    }
   ],
   "source": [
    "chromadb.similarity_search(\"Impot\")"
   ]
  },
  {
   "cell_type": "code",
   "execution_count": null,
   "metadata": {},
   "outputs": [],
   "source": [
    "# create the chroma client\n",
    "import chromadb\n",
    "import uuid\n",
    "from chromadb.config import Settings\n",
    "\n",
    "client = chromadb.HttpClient(settings=Settings(allow_reset=True))\n",
    "client.reset()  # resets the database\n",
    "collection = client.create_collection(\"my_collection\")\n",
    "for doc in docs:\n",
    "    collection.add(\n",
    "        ids=[str(uuid.uuid1())], metadatas=doc.metadata, documents=doc.page_content\n",
    "    )\n",
    "\n",
    "# tell LangChain to use our client and collection name\n",
    "db4 = Chroma(client=client, collection_name=\"my_collection\", embedding_function=embedding_function)\n",
    "query = \"What did the president say about Ketanji Brown Jackson\"\n",
    "docs = db4.similarity_search(query)\n",
    "print(docs[0].page_content)"
   ]
  },
  {
   "cell_type": "code",
   "execution_count": 17,
   "metadata": {},
   "outputs": [],
   "source": [
    "import chromadb\n",
    "import uuid\n",
    "from chromadb.config import Settings"
   ]
  },
  {
   "cell_type": "code",
   "execution_count": 19,
   "metadata": {},
   "outputs": [
    {
     "ename": "Exception",
     "evalue": "{\"detail\":\"Not Found\"}",
     "output_type": "error",
     "traceback": [
      "\u001b[0;31m---------------------------------------------------------------------------\u001b[0m",
      "\u001b[0;31mHTTPError\u001b[0m                                 Traceback (most recent call last)",
      "File \u001b[0;32m~/miniconda3/envs/maya/lib/python3.9/site-packages/chromadb/api/fastapi.py:408\u001b[0m, in \u001b[0;36mraise_chroma_error\u001b[0;34m(resp)\u001b[0m\n\u001b[1;32m    407\u001b[0m \u001b[39mtry\u001b[39;00m:\n\u001b[0;32m--> 408\u001b[0m     resp\u001b[39m.\u001b[39;49mraise_for_status()\n\u001b[1;32m    409\u001b[0m \u001b[39mexcept\u001b[39;00m requests\u001b[39m.\u001b[39mHTTPError:\n",
      "File \u001b[0;32m~/miniconda3/envs/maya/lib/python3.9/site-packages/requests/models.py:1021\u001b[0m, in \u001b[0;36mResponse.raise_for_status\u001b[0;34m(self)\u001b[0m\n\u001b[1;32m   1020\u001b[0m \u001b[39mif\u001b[39;00m http_error_msg:\n\u001b[0;32m-> 1021\u001b[0m     \u001b[39mraise\u001b[39;00m HTTPError(http_error_msg, response\u001b[39m=\u001b[39m\u001b[39mself\u001b[39m)\n",
      "\u001b[0;31mHTTPError\u001b[0m: 404 Client Error: Not Found for url: http://localhost:8000/api/v1/reset",
      "\nDuring handling of the above exception, another exception occurred:\n",
      "\u001b[0;31mException\u001b[0m                                 Traceback (most recent call last)",
      "Cell \u001b[0;32mIn[19], line 2\u001b[0m\n\u001b[1;32m      1\u001b[0m client \u001b[39m=\u001b[39m chromadb\u001b[39m.\u001b[39mHttpClient(settings\u001b[39m=\u001b[39mSettings(allow_reset\u001b[39m=\u001b[39m\u001b[39mTrue\u001b[39;00m))\n\u001b[0;32m----> 2\u001b[0m client\u001b[39m.\u001b[39;49mreset()\n",
      "File \u001b[0;32m~/miniconda3/envs/maya/lib/python3.9/site-packages/chromadb/api/fastapi.py:355\u001b[0m, in \u001b[0;36mFastAPI.reset\u001b[0;34m(self)\u001b[0m\n\u001b[1;32m    353\u001b[0m \u001b[39m\u001b[39m\u001b[39m\"\"\"Resets the database\"\"\"\u001b[39;00m\n\u001b[1;32m    354\u001b[0m resp \u001b[39m=\u001b[39m \u001b[39mself\u001b[39m\u001b[39m.\u001b[39m_session\u001b[39m.\u001b[39mpost(\u001b[39mself\u001b[39m\u001b[39m.\u001b[39m_api_url \u001b[39m+\u001b[39m \u001b[39m\"\u001b[39m\u001b[39m/reset\u001b[39m\u001b[39m\"\u001b[39m)\n\u001b[0;32m--> 355\u001b[0m raise_chroma_error(resp)\n\u001b[1;32m    356\u001b[0m \u001b[39mreturn\u001b[39;00m cast(\u001b[39mbool\u001b[39m, resp\u001b[39m.\u001b[39mjson())\n",
      "File \u001b[0;32m~/miniconda3/envs/maya/lib/python3.9/site-packages/chromadb/api/fastapi.py:410\u001b[0m, in \u001b[0;36mraise_chroma_error\u001b[0;34m(resp)\u001b[0m\n\u001b[1;32m    408\u001b[0m     resp\u001b[39m.\u001b[39mraise_for_status()\n\u001b[1;32m    409\u001b[0m \u001b[39mexcept\u001b[39;00m requests\u001b[39m.\u001b[39mHTTPError:\n\u001b[0;32m--> 410\u001b[0m     \u001b[39mraise\u001b[39;00m (\u001b[39mException\u001b[39;00m(resp\u001b[39m.\u001b[39mtext))\n",
      "\u001b[0;31mException\u001b[0m: {\"detail\":\"Not Found\"}"
     ]
    }
   ],
   "source": [
    "client = chromadb.HttpClient(settings=Settings(allow_reset=True))\n",
    "client.reset() "
   ]
  },
  {
   "cell_type": "code",
   "execution_count": null,
   "metadata": {},
   "outputs": [],
   "source": [
    "from decouple import config\n",
    "from base64 import b64encode\n",
    "logs = \"admin:{}\".format(config(\"ADMIN\"))\n",
    "logs_byes = logs.encode(\"utf-8\")\n",
    "encoded_logs = b64encode(logs_byes)\n",
    "encoded_logs.decode(\"utf-8\")"
   ]
  }
 ],
 "metadata": {
  "kernelspec": {
   "display_name": "maya",
   "language": "python",
   "name": "python3"
  },
  "language_info": {
   "codemirror_mode": {
    "name": "ipython",
    "version": 3
   },
   "file_extension": ".py",
   "mimetype": "text/x-python",
   "name": "python",
   "nbconvert_exporter": "python",
   "pygments_lexer": "ipython3",
   "version": "3.9.17"
  },
  "orig_nbformat": 4
 },
 "nbformat": 4,
 "nbformat_minor": 2
}
