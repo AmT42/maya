{
 "cells": [
  {
   "cell_type": "code",
   "execution_count": 1,
   "metadata": {},
   "outputs": [
    {
     "data": {
      "text/plain": [
       "'22-00-06/15/22'"
      ]
     },
     "execution_count": 1,
     "metadata": {},
     "output_type": "execute_result"
    }
   ],
   "source": [
    "from datetime import datetime\n",
    "datetime.strptime('15/06/2022', \"%d/%m/%Y\").strftime(\"%y-%M-%D\")"
   ]
  },
  {
   "cell_type": "code",
   "execution_count": 7,
   "metadata": {},
   "outputs": [
    {
     "data": {
      "text/plain": [
       "{'Authorization': 'Basic YWRtaW46YWRtaW4='}"
      ]
     },
     "execution_count": 7,
     "metadata": {},
     "output_type": "execute_result"
    }
   ],
   "source": [
    "from base64 import b64encode\n",
    "\n",
    "# Encode the username and password for Basic Authentication\n",
    "credentials = b64encode(\"admin:bru\".encode()).decode(\"utf-8\")\n",
    "headers = {\n",
    "    \"Authorization\": f\"Basic {credentials}\"\n",
    "}\n",
    "headers"
   ]
  },
  {
   "cell_type": "code",
   "execution_count": 8,
   "metadata": {},
   "outputs": [],
   "source": [
    "# import libraries\n",
    "from langchain.chat_models import ChatOpenAI\n",
    "from langchain.prompts import PromptTemplate\n",
    "from langchain.chains import LLMChain\n",
    "from langchain import FewShotPromptTemplate\n",
    "from langchain.chat_models import ChatOpenAI\n",
    "from langchain.chains.conversation.memory import ConversationBufferMemory \n",
    "import json \n",
    "\n",
    "\n",
    "class ChatGpt:\n",
    "    def __init__(self, example, example_template, example_prompt, prefix, suffix) -> None:\n",
    "\n",
    "        if example is None:\n",
    "            self.example =[\n",
    "                    {\n",
    "                        \"requête\" : \"RECOCASH\\nGestion, s\\u00e9curisation & optimisation du poste Client\\nRL06/OF\\nTEL: 01 84 27 05 93\\nMAIL: orange.rec@recocash.com\\n\\u25ba R\\u00e9f\\u00e9rence 1:\\nR\\u00e9f\\u00e9rence 2\\nR\\u00e9f\\u00e9rence 3\\nSOLDE\\n:\\n:\\n022719431\\n0251282733-013\\nCMTNET210800702\\n\\u20ac 72,77\\nCr\\u00e9ancier: ORANGE SA\\n111 Q. DU PR\\u00c9SIDENT ROOSEVELT 92130 ISSY-LES-MOULINEAUX\\nPremi\\u00e8re r\\u00e9clamation du 30/08/2021\\nE\\n0332021267PLI001614\\n21092405419/210983060/005937/0015/0/0000\\nMONSIEUR CELEBI AHMED\\nETAGE 3\\n58 RUE DE MARSEILLE\\n93800 EPINAY SUR SEINE\\nRambouillet, le 24 septembre 2021\\nPROJET D'INJONCTION DE PAYER\\nMadame, Monsieur,\\nVous n'avez pas cru devoir r\\u00e9gler le solde de \\u20ac 72,77.\\nNous allons donc transmettre une requ\\u00eate aux fins d'injonction de payer au tribunal comp\\u00e9tent dont le\\nprojet appara\\u00eet au verso.\\nL'ordonnance rendue vous sera ensuite signifi\\u00e9e par un huissier.\\nSi vous voulez \\u00e9viter cette proc\\u00e9dure, vous devez imm\\u00e9diatement adresser le solde.\\nA d\\u00e9faut de r\\u00e8glement avant la signification de l'ordonnance, son co\\u00fbt sera \\u00e0 votre charge.\\nNous vous prions d'agr\\u00e9er, Madame, Monsieur, l'expression de nos salutations distingu\\u00e9es.\\nService Pr\\u00e9-Judiciaire\\n229\\nL\\nChaus\\nRECOCASH-1 rue de Clairefontaine - BP 91-78120 Rambouillet cedex\\nSAS au capital de 3 522 607 \\u20ac - RCS Versailles B 479 974 115-Code NAF : 8291Z - TVA intracommunautaire: FR37479974\\n\\u25ba Virement: IBAN: FR7630004008530001000561853 BIC BNPAFRPPXXX\\n\\u25baCarte Bancaire (site s\\u00e9curis\\u00e9): https://www.recocash.com\\nConform\\u00e9ment \\u00e0 l'article R 124-4 du Code des Proc\\u00e9dures Civiles d'Ex\\u00e9cution, vous trouverez ci-apr\\u00e8s reproduits le deuxi\\u00e8me et troisi\\u00e8me alin\\u00e9a de\\nl'article L.111-8 de ce m\\u00eame code: \\\"Les frais de recouvrement entrepris sans titre ex\\u00e9cutoire restent \\u00e0 la charge du cr\\u00e9ancier, sauf s'ils concement un acte\\ndont l'accomplissement est prescrit par la loi. Toute stipulation contraire est r\\u00e9put\\u00e9e non \\u00e9crite, sauf disposition l\\u00e9gislative contraire. Cependant, le\\ncr\\u00e9ancier qui justifie du caract\\u00e8re n\\u00e9cessaire des d\\u00e9marches entreprises pour recouvrer sa cr\\u00e9ance peut demander au juge de l'ex\\u00e9cution de laisser tout ou\\npartie des frais ainsi expos\\u00e9s \\u00e0 la charge du d\\u00e9biteur de mauvaise foi\\\".\\ntime now touto information your concernant convient\",\n",
    "                        \"réponse\" : \"doctype: Injonction de payer, date: 24/09/2021, entite_ou_raison: RECOCASH, info_supplementaires: montant à payer: 72,77 euros, date_payement: le plus tot possible, tel_conctacte: 01 84 27 05 93, mail_contact: orange.rec@recocash.com, IBAN: FR7630004008530001000561853, BIC : BNPAFRPPXXX, site: https://www.recocash.com\"\n",
    "                    }\n",
    "                ]\n",
    "        else:\n",
    "            self.example = example\n",
    "\n",
    "        if example_template is None:\n",
    "            # création du template de nos exemples\n",
    "            self.example_template = \"\"\"\n",
    "            Input: {requête}\n",
    "            Output: {réponse}\n",
    "            \"\"\"\n",
    "        else:\n",
    "            self.example_template = example_template\n",
    "\n",
    "        if example_prompt is None:\n",
    "            self.example_prompt = PromptTemplate(\n",
    "                input_variables=[\"requête\", \"réponse\"],\n",
    "                template=self.example_template\n",
    "            )\n",
    "        else:\n",
    "            self.example_prompt = example_prompt    \n",
    "\n",
    "        if prefix is None:\n",
    "            self.prefix = \"\"\"\n",
    "                ChatGPT, ta mission est de fonctionner comme un classificateur de documents et un extracteur d'informations pertinentes à partir de textes provenant de la reconnaissance optique de caractères (OCR) sur des images. Tu recevras différents types de documents textuels qui peuvent inclure, mais ne sont pas limités à, des factures, des devis, des contraventions automobiles et bien plus encore.\n",
    "\n",
    "                    Classifie le document : Tu dois déterminer le type de document. Par exemple, est-ce une facture, un devis, une contravention de voiture ou autre?\n",
    "\n",
    "                    Extrais la date : Trouve la date d'envoi ou la date mentionnée sur le document.\n",
    "\n",
    "                    Identifie l'entité ou la raison : S'agit-il d'une facture de Free? Dans ce cas, l'entité serait 'Free'. S'agit-il d'une contravention pour une infraction routière ? Dans ce cas, la raison serait 'voiture'.\n",
    "\n",
    "                    Classement : Les documents seront automatiquement classés selon les informations extraites. Par exemple, une facture de Free datée du 20/12/2020 serait classée dans le répertoire 'Facture/Free/2020.txt'. Si le répertoire n'existe pas, il sera créé.\n",
    "\n",
    "                    Extraction d'informations supplémentaires : Selon le type de document, il y a d'autres informations pertinentes à extraire. Par exemple, une facture ou une contravention pourrait nécessiter l'extraction du montant à payer et de la date limite de paiement. Si le document fournit un lien pour le paiement, un numéro de téléphone pour le service client, ou d'autres informations importantes, celles-ci doivent être également extraites.\n",
    "\n",
    "                    Création d'événements Google Calendar : En fonction des informations extraites, un événement Google Calendar sera créé. Par exemple, pour une facture de Free qui nécessite un paiement de 30 euros le 12/12/2020, un événement sera créé avec les informations nécessaires.\n",
    "\n",
    "                Ton rôle est crucial pour aider les personnes qui ont une phobie administrative.\n",
    "\n",
    "                Format attendu de la réponse est sensé etre un dictionnaire tel que sur python si on fait eval(ton output) on a un dictionnaire de la forme:\n",
    "                dict('doctype': [classification du document]\n",
    "                'date': [date d'envoi du document]\n",
    "                'entite_ou_raison': [entité qui a envoyé le document ou raison]\n",
    "                'info_supplementaires': [toutes les informations pertinentes extraites du document)\n",
    "                N'utilise surtout pas de guillemets dans tes mots si ce n'est pour formet un string python. Par exemple tu ecrira avec les mots comme s'appeler en tant que s_appeler\n",
    "                En cas de doute ou si une information est inconnue, n'hésite pas à indiquer \"N/A\". Par exemple, entité: \"N/A\". \n",
    "                \"\"\" \n",
    "        else:\n",
    "            self.prefix = prefix\n",
    "\n",
    "        if suffix is None:\n",
    "            self.suffix = \"\"\"\n",
    "                Input: {requête}\n",
    "                Output:\n",
    "                \"\"\"\n",
    "        else:\n",
    "            self.suffix = suffix\n",
    "        self.memory = ConversationBufferMemory(memory_key = \"chat_history\")\n",
    "    \n",
    "        self.set_few_shot_prompt_template()\n",
    "\n",
    "        self.key_mapping = {\n",
    "        \"doctype\" : \"le type du document est: \",\n",
    "        \"date\" : \"la date d'envoie du document est: \",\n",
    "        \"entite_ou_raison\" : \"l'entité ou la raison qui a emis le document est: \",\n",
    "        \"info_supplementaires\" : \"les info supplementaires sont: \"\n",
    "        }\n",
    "    \n",
    "    def set_few_shot_prompt_template(self):\n",
    "        self.few_shot_prompt_template = FewShotPromptTemplate(\n",
    "                examples=self.example,\n",
    "                example_prompt=self.example_prompt,\n",
    "                prefix=self.prefix,\n",
    "                suffix=self.suffix,\n",
    "                input_variables=[\"requête\"],\n",
    "                # memory = self.memory, \n",
    "                example_separator=\"\\n\\n\",\n",
    "                # verbose = True\n",
    "            )\n",
    "    def call_gpt(self, text):\n",
    "        llm = ChatOpenAI(temperature = 0, model_name = \"gpt-3.5-turbo\")\n",
    "        chain = LLMChain(llm = llm, prompt = self.few_shot_prompt_template, verbose = False, memory = self.memory)\n",
    "        response = chain.predict(requête=text)  \n",
    "        i = 0\n",
    "        while i<5:\n",
    "            try: \n",
    "                response = eval(response)\n",
    "                i=6\n",
    "            except:\n",
    "                response = chain.predict(requête=\"Je n'ai pas pu faire eval(ta réponse) il y'a surement un mauvais formatage, peux-tu corriger ton erreur\")   \n",
    "                i += 1\n",
    "        if i==5:\n",
    "            print(\"couldnt output right format\")\n",
    "            # sys.exit()\n",
    "        return response \n",
    "    \n",
    "    def json2semantic(self, output_json):\n",
    "        \"\"\"\n",
    "        Take as input the output of chatgpt that which is supposed to be in dict format and output a \n",
    "        \"\"\"\n",
    "        vdb_output = ''\n",
    "        for key1, value1 in output_json.items():\n",
    "            if key1 in [\"doc_id\", \"file_path\"]:\n",
    "                continue\n",
    "\n",
    "            if key1 != \"info_supplementaires\":\n",
    "                if value1 == \"N/A\":\n",
    "                    continue\n",
    "                else:\n",
    "                    vdb_output += f'{self.key_mapping[key1]} \"{value1}\", '\n",
    "            else:\n",
    "                vdb_output += f'{self.key_mapping[key1]}'\n",
    "                print(value1)\n",
    "                for key2, value2 in value1.items():\n",
    "                    if value2 == \"N/A\":\n",
    "                        continue\n",
    "                    else:\n",
    "                        vdb_output += f'{key2.replace(\"/\",\" \")} est \"{value2}\", ' \n",
    "        return vdb_output\n",
    "    \n",
    "chatgpt = ChatGpt(None, None, None, None, None)"
   ]
  },
  {
   "cell_type": "code",
   "execution_count": 9,
   "metadata": {},
   "outputs": [
    {
     "name": "stdout",
     "output_type": "stream",
     "text": [
      "{'description_infraction': 'EXCES DE VITESSE INFERIEUR A 20 KM/H PAR CONDUCTEUR DE VEHICULE A MOTEUR - VITESSE MAXIMALE AUTORISEE INFERIEURE OU EGALE A 50 KM/H', 'lieu_constatation': '75 av de la division leclerc, St brice sous forêt - 95350', 'vitesse_constatee': '70 km/h', 'vitesse_limite': '50 km/h', 'montant_amende': '135 €', 'date_paiement_reduit': '22/06/2023', 'date_paiement_majoré': 'X', 'immatriculation': 'CY-747-JL', 'marque': 'RENAULT', 'agent_verbalisateur': 'Agent verbalisateur N° 471839', 'service': 'Centre automatisé de constatation des infractions routières (Rennes)', 'site_web': 'www.antai.gouv.fr', 'telephone': '0806 606 606'}\n"
     ]
    },
    {
     "data": {
      "text/plain": [
       "'le type du document est:  \"Avis de contravention\", la date d\\'envoie du document est:  \"15/06/2023\", les info supplementaires sont: description_infraction est \"EXCES DE VITESSE INFERIEUR A 20 KM/H PAR CONDUCTEUR DE VEHICULE A MOTEUR - VITESSE MAXIMALE AUTORISEE INFERIEURE OU EGALE A 50 KM/H\", lieu_constatation est \"75 av de la division leclerc, St brice sous forêt - 95350\", vitesse_constatee est \"70 km/h\", vitesse_limite est \"50 km/h\", montant_amende est \"135 €\", date_paiement_reduit est \"22/06/2023\", date_paiement_majoré est \"X\", immatriculation est \"CY-747-JL\", marque est \"RENAULT\", agent_verbalisateur est \"Agent verbalisateur N° 471839\", service est \"Centre automatisé de constatation des infractions routières (Rennes)\", site_web est \"www.antai.gouv.fr\", telephone est \"0806 606 606\", '"
      ]
     },
     "execution_count": 9,
     "metadata": {},
     "output_type": "execute_result"
    }
   ],
   "source": [
    "dict_ = {\n",
    "    \"doctype\": \"Avis de contravention\",\n",
    "    \"date\": \"15/06/2023\",\n",
    "    \"entite_ou_raison\": \"N/A\",\n",
    "    \"info_supplementaires\": {\n",
    "      \"description_infraction\": \"EXCES DE VITESSE INFERIEUR A 20 KM/H PAR CONDUCTEUR DE VEHICULE A MOTEUR - VITESSE MAXIMALE AUTORISEE INFERIEURE OU EGALE A 50 KM/H\",\n",
    "      \"lieu_constatation\": \"75 av de la division leclerc, St brice sous forêt - 95350\",\n",
    "      \"vitesse_constatee\": \"70 km/h\",\n",
    "      \"vitesse_limite\": \"50 km/h\",\n",
    "      \"montant_amende\": \"135 €\",\n",
    "      \"date_paiement_reduit\": \"22/06/2023\",\n",
    "      \"date_paiement_majoré\": \"X\",\n",
    "      \"immatriculation\": \"CY-747-JL\",\n",
    "      \"marque\": \"RENAULT\",\n",
    "      \"agent_verbalisateur\": \"Agent verbalisateur N° 471839\",\n",
    "      \"service\": \"Centre automatisé de constatation des infractions routières (Rennes)\",\n",
    "      \"site_web\": \"www.antai.gouv.fr\",\n",
    "      \"telephone\": \"0806 606 606\"\n",
    "    }\n",
    "  }\n",
    "chatgpt.json2semantic(dict_)"
   ]
  },
  {
   "cell_type": "code",
   "execution_count": 10,
   "metadata": {},
   "outputs": [],
   "source": [
    "dict_ ={\n",
    "  \"doc_id\": \"4fe6ca7d-9313-4bce-8c52-22960b6f806f\",\n",
    "  \"extracted_info\": {\n",
    "    \"doctype\": \"Avis de contravention\",\n",
    "    \"date\": \"15/06/2023\",\n",
    "    \"entite_ou_raison\": \"N/A\",\n",
    "    \"info_supplementaires\": {\n",
    "      \"description_infraction\": \"EXCES DE VITESSE INFERIEUR A 20 KM/H PAR CONDUCTEUR DE VEHICULE A MOTEUR - VITESSE MAXIMALE AUTORISEE INFERIEURE OU EGALE A 50 KM/H\",\n",
    "      \"lieu_constatation\": \"75 av de la division leclerc, St brice sous forêt - 95350\",\n",
    "      \"vitesse_constatee\": \"70 km/h\",\n",
    "      \"vitesse_limite\": \"50 km/h\",\n",
    "      \"montant_amende\": \"135 €\",\n",
    "      \"date_paiement_reduit\": \"22/06/2023\",\n",
    "      \"date_paiement_majoré\": \"X\",\n",
    "      \"immatriculation\": \"CY-747-JL\",\n",
    "      \"marque\": \"RENAULT\",\n",
    "      \"agent_verbalisateur\": \"Agent verbalisateur N° 471839\",\n",
    "      \"service\": \"Centre automatisé de constatation des infractions routières (Rennes)\",\n",
    "      \"site_web\": \"www.antai.gouv.fr\",\n",
    "      \"telephone\": \"0806 606 606\"\n",
    "    }\n",
    "  }\n",
    "}\n"
   ]
  },
  {
   "cell_type": "code",
   "execution_count": 11,
   "metadata": {},
   "outputs": [],
   "source": [
    "import chromadb\n",
    "from chromadb.config import Settings\n",
    "from decouple import config\n",
    "chroma_client = chromadb.HttpClient(settings=Settings(allow_reset=True,\n",
    " ), host = \"localhost\", port = 8001, headers=headers)\n",
    "# chroma_client.reset()\n"
   ]
  },
  {
   "cell_type": "code",
   "execution_count": 16,
   "metadata": {},
   "outputs": [
    {
     "data": {
      "text/plain": [
       "{\"Résultats des analyses médicales: Sérologie HIV 1+2, Anticorps anti-HBs, Anticorps anti-HBc IgG, Antigène HBs, Anticorps anti-hépatite C, T.P.H.A V.D.R.L., PCR Chlamydia sur 1er jet d'urines, ECBU avec antibiogramme si nécessaire\"}"
      ]
     },
     "execution_count": 16,
     "metadata": {},
     "output_type": "execute_result"
    }
   ],
   "source": [
    "{\"Résultats des analyses médicales: Sérologie HIV 1+2, Anticorps anti-HBs, Anticorps anti-HBc IgG, Antigène HBs, Anticorps anti-hépatite C, T.P.H.A V.D.R.L., PCR Chlamydia sur 1er jet d'urines, ECBU avec antibiogramme si nécessaire\"}"
   ]
  },
  {
   "cell_type": "code",
   "execution_count": 12,
   "metadata": {},
   "outputs": [],
   "source": [
    "from langchain.vectorstores import Chroma\n",
    "from langchain.embeddings.openai import OpenAIEmbeddings\n",
    "chromadb = Chroma(client = chroma_client, collection_name = \"smart_maya\", embedding_function=OpenAIEmbeddings())"
   ]
  },
  {
   "cell_type": "code",
   "execution_count": 14,
   "metadata": {},
   "outputs": [
    {
     "data": {
      "text/plain": [
       "['28b3da8d-e920-4320-8313-82eca2300c87',\n",
       " '4fe6ca7d-9313-4bce-8c52-22960b6f806f',\n",
       " '9cc42a45-5c1e-44b6-909f-feffdcd39deb',\n",
       " 'f6664a59-d8bf-48fb-ad80-79b7640bc687']"
      ]
     },
     "execution_count": 14,
     "metadata": {},
     "output_type": "execute_result"
    }
   ],
   "source": [
    "[doc.metadata[\"id\"] for doc in chromadb.similarity_search(\"Impot\")]"
   ]
  },
  {
   "cell_type": "code",
   "execution_count": null,
   "metadata": {},
   "outputs": [],
   "source": [
    "# create the chroma client\n",
    "import chromadb\n",
    "import uuid\n",
    "from chromadb.config import Settings\n",
    "\n",
    "client = chromadb.HttpClient(settings=Settings(allow_reset=True))\n",
    "client.reset()  # resets the database\n",
    "collection = client.create_collection(\"my_collection\")\n",
    "# for doc in docs:\n",
    "#     collection.add(\n",
    "#         ids=[str(uuid.uuid1())], metadatas=doc.metadata, documents=doc.page_content\n",
    "#     )\n",
    "\n",
    "# # tell LangChain to use our client and collection name\n",
    "# db4 = Chroma(client=client, collection_name=\"my_collection\", embedding_function=embedding_function)\n",
    "# query = \"What did the president say about Ketanji Brown Jackson\"\n",
    "# docs = db4.similarity_search(query)\n",
    "# print(docs[0].page_content)"
   ]
  },
  {
   "cell_type": "code",
   "execution_count": 17,
   "metadata": {},
   "outputs": [],
   "source": [
    "import chromadb\n",
    "import uuid\n",
    "from chromadb.config import Settings"
   ]
  },
  {
   "cell_type": "code",
   "execution_count": 19,
   "metadata": {},
   "outputs": [
    {
     "ename": "Exception",
     "evalue": "{\"detail\":\"Not Found\"}",
     "output_type": "error",
     "traceback": [
      "\u001b[0;31m---------------------------------------------------------------------------\u001b[0m",
      "\u001b[0;31mHTTPError\u001b[0m                                 Traceback (most recent call last)",
      "File \u001b[0;32m~/miniconda3/envs/maya/lib/python3.9/site-packages/chromadb/api/fastapi.py:408\u001b[0m, in \u001b[0;36mraise_chroma_error\u001b[0;34m(resp)\u001b[0m\n\u001b[1;32m    407\u001b[0m \u001b[39mtry\u001b[39;00m:\n\u001b[0;32m--> 408\u001b[0m     resp\u001b[39m.\u001b[39;49mraise_for_status()\n\u001b[1;32m    409\u001b[0m \u001b[39mexcept\u001b[39;00m requests\u001b[39m.\u001b[39mHTTPError:\n",
      "File \u001b[0;32m~/miniconda3/envs/maya/lib/python3.9/site-packages/requests/models.py:1021\u001b[0m, in \u001b[0;36mResponse.raise_for_status\u001b[0;34m(self)\u001b[0m\n\u001b[1;32m   1020\u001b[0m \u001b[39mif\u001b[39;00m http_error_msg:\n\u001b[0;32m-> 1021\u001b[0m     \u001b[39mraise\u001b[39;00m HTTPError(http_error_msg, response\u001b[39m=\u001b[39m\u001b[39mself\u001b[39m)\n",
      "\u001b[0;31mHTTPError\u001b[0m: 404 Client Error: Not Found for url: http://localhost:8000/api/v1/reset",
      "\nDuring handling of the above exception, another exception occurred:\n",
      "\u001b[0;31mException\u001b[0m                                 Traceback (most recent call last)",
      "Cell \u001b[0;32mIn[19], line 2\u001b[0m\n\u001b[1;32m      1\u001b[0m client \u001b[39m=\u001b[39m chromadb\u001b[39m.\u001b[39mHttpClient(settings\u001b[39m=\u001b[39mSettings(allow_reset\u001b[39m=\u001b[39m\u001b[39mTrue\u001b[39;00m))\n\u001b[0;32m----> 2\u001b[0m client\u001b[39m.\u001b[39;49mreset()\n",
      "File \u001b[0;32m~/miniconda3/envs/maya/lib/python3.9/site-packages/chromadb/api/fastapi.py:355\u001b[0m, in \u001b[0;36mFastAPI.reset\u001b[0;34m(self)\u001b[0m\n\u001b[1;32m    353\u001b[0m \u001b[39m\u001b[39m\u001b[39m\"\"\"Resets the database\"\"\"\u001b[39;00m\n\u001b[1;32m    354\u001b[0m resp \u001b[39m=\u001b[39m \u001b[39mself\u001b[39m\u001b[39m.\u001b[39m_session\u001b[39m.\u001b[39mpost(\u001b[39mself\u001b[39m\u001b[39m.\u001b[39m_api_url \u001b[39m+\u001b[39m \u001b[39m\"\u001b[39m\u001b[39m/reset\u001b[39m\u001b[39m\"\u001b[39m)\n\u001b[0;32m--> 355\u001b[0m raise_chroma_error(resp)\n\u001b[1;32m    356\u001b[0m \u001b[39mreturn\u001b[39;00m cast(\u001b[39mbool\u001b[39m, resp\u001b[39m.\u001b[39mjson())\n",
      "File \u001b[0;32m~/miniconda3/envs/maya/lib/python3.9/site-packages/chromadb/api/fastapi.py:410\u001b[0m, in \u001b[0;36mraise_chroma_error\u001b[0;34m(resp)\u001b[0m\n\u001b[1;32m    408\u001b[0m     resp\u001b[39m.\u001b[39mraise_for_status()\n\u001b[1;32m    409\u001b[0m \u001b[39mexcept\u001b[39;00m requests\u001b[39m.\u001b[39mHTTPError:\n\u001b[0;32m--> 410\u001b[0m     \u001b[39mraise\u001b[39;00m (\u001b[39mException\u001b[39;00m(resp\u001b[39m.\u001b[39mtext))\n",
      "\u001b[0;31mException\u001b[0m: {\"detail\":\"Not Found\"}"
     ]
    }
   ],
   "source": [
    "client = chromadb.HttpClient(settings=Settings(allow_reset=True))\n",
    "client.reset() "
   ]
  },
  {
   "cell_type": "code",
   "execution_count": null,
   "metadata": {},
   "outputs": [],
   "source": [
    "from decouple import config\n",
    "from base64 import b64encode\n",
    "logs = \"admin:{}\".format(config(\"ADMIN\"))\n",
    "logs_byes = logs.encode(\"utf-8\")\n",
    "encoded_logs = b64encode(logs_byes)\n",
    "encoded_logs.decode(\"utf-8\")"
   ]
  },
  {
   "cell_type": "code",
   "execution_count": null,
   "metadata": {},
   "outputs": [],
   "source": [
    "ChatGPT, ta mission est de fonctionner comme un classificateur de documents et un extracteur d'informations pertinentes à partir de textes provenant de la reconnaissance optique de caractères (OCR) sur des images. Tu recevras différents types de documents textuels qui peuvent inclure, mais ne sont pas limités à, des factures, des devis, des contraventions automobiles et bien plus encore.\n",
    "\n",
    "                    Classifie le document : Tu dois déterminer le type de document. Par exemple, est-ce une facture, un devis, une contravention de voiture ou autre?\n",
    "\n",
    "                    Extrais la date : Trouve la date d'envoi ou la date mentionnée sur le document.\n",
    "\n",
    "                    Identifie l'entité ou la raison : S'agit-il d'une facture de Free? Dans ce cas, l'entité serait 'Free'. S'agit-il d'une contravention pour une infraction routière ? Dans ce cas, la raison serait 'voiture'.\n",
    "\n",
    "                    Classement : Les documents seront automatiquement classés selon les informations extraites. Par exemple, une facture de Free datée du 20/12/2020 serait classée dans le répertoire 'Facture/Free/2020.txt'. Si le répertoire n'existe pas, il sera créé.\n",
    "\n",
    "                    Extraction d'informations supplémentaires : Selon le type de document, il y a d'autres informations pertinentes à extraire. Par exemple, une facture ou une contravention pourrait nécessiter l'extraction du montant à payer et de la date limite de paiement. Si le document fournit un lien pour le paiement, un numéro de téléphone pour le service client, ou d'autres informations importantes, celles-ci doivent être également extraites.\n",
    "\n",
    "                    Création d'événements Google Calendar : En fonction des informations extraites, un événement Google Calendar sera créé. Par exemple, pour une facture de Free qui nécessite un paiement de 30 euros le 12/12/2020, un événement sera créé avec les informations nécessaires.\n",
    "\n",
    "                Ton rôle est crucial pour aider les personnes qui ont une phobie administrative.\n",
    "\n",
    "                Format attendu de la réponse est sensé etre un dictionnaire tel que sur python si on fait eval(ton output) on a un dictionnaire de la forme egalement la valeur de la key info_spllementaires est aussi sensé etre un dictionnaire je devrais sensé pouvoir faire eval(ton output[\"info_supplementaires\"]):\n",
    "                dict('doctype': [classification du document]\n",
    "                'date': [date d'envoi du document]\n",
    "                'entite_ou_raison': [entité qui a envoyé le document ou raison]\n",
    "                'info_supplementaires': dict([toutes les informations pertinentes extraites du document])\n",
    "                N'utilise surtout pas de guillemets dans tes mots si ce n'est pour formet un string python. Par exemple tu ecrira avec les mots comme s'appeler en tant que s_appeler\n",
    "                En cas de doute ou si une information est inconnue, n'hésite pas à indiquer \"N/A\". Par exemple, entité: \"N/A\". "
   ]
  }
 ],
 "metadata": {
  "kernelspec": {
   "display_name": "maya",
   "language": "python",
   "name": "python3"
  },
  "language_info": {
   "codemirror_mode": {
    "name": "ipython",
    "version": 3
   },
   "file_extension": ".py",
   "mimetype": "text/x-python",
   "name": "python",
   "nbconvert_exporter": "python",
   "pygments_lexer": "ipython3",
   "version": "3.9.17"
  },
  "orig_nbformat": 4
 },
 "nbformat": 4,
 "nbformat_minor": 2
}
